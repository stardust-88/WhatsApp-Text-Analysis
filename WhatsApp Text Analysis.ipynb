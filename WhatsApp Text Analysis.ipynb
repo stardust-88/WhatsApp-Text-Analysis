{
 "cells": [
  {
   "cell_type": "markdown",
   "metadata": {},
   "source": [
    "# WhatsApp Text Analysis\n",
    "Messages and dataframes are not shown for privacy concerns."
   ]
  },
  {
   "cell_type": "code",
   "execution_count": 322,
   "metadata": {},
   "outputs": [],
   "source": [
    "import re\n",
    "import numpy as np\n",
    "import pandas as pd\n",
    "import matplotlib.pyplot as plt\n",
    "import emoji\n",
    "import collections\n",
    "import operator\n",
    "import seaborn as sns\n",
    "import datetime\n",
    "import pytz\n",
    "import plotly.graph_objects as go\n",
    "from nltk.stem import LancasterStemmer\n",
    "plt.style.use('ggplot')\n",
    "%matplotlib inline\n",
    "#sns.set(rc={'axes.facecolor':'cornflowerblue', 'figure.facecolor':'cornflowerblue'})\n",
    "#fig, ax = plt.subplots()"
   ]
  },
  {
   "cell_type": "code",
   "execution_count": 323,
   "metadata": {},
   "outputs": [],
   "source": [
    "# Reading the whatsApp text file\n",
    "file = open(r'./WhatsApp Chat with G1ers.txt',mode='r',encoding=\"utf8\")\n",
    "data = file.read()\n",
    "file.close()\n",
    "#data"
   ]
  },
  {
   "cell_type": "code",
   "execution_count": 324,
   "metadata": {},
   "outputs": [],
   "source": [
    "# utility function for accepting the format of date:\n",
    "def valid_date(datestring):\n",
    "        try:\n",
    "                mat=re.match('(\\d{1,2})[/.-](\\d{1,2})[/.-](\\d{2,4})$', datestring)\n",
    "                if mat is not None:\n",
    "                        #datetime.datetime(*(map(int, mat.groups()[-1::-1])))\n",
    "                        return True\n",
    "        except ValueError:\n",
    "                pass\n",
    "        return False"
   ]
  },
  {
   "cell_type": "code",
   "execution_count": 325,
   "metadata": {
    "scrolled": true
   },
   "outputs": [
    {
     "data": {
      "text/plain": [
       "'10/26/19, 5:39 PM - Naman: EXCLUSIVE GROUP FOR G-1 RESIDERS'"
      ]
     },
     "execution_count": 325,
     "metadata": {},
     "output_type": "execute_result"
    }
   ],
   "source": [
    "# reading the text file and getting each individual messages and their details in the form of lists:\n",
    "lines = []\n",
    "with open('WhatsApp Chat with G1ers.txt',mode='r',encoding='utf8') as f:\n",
    "    for line in f:\n",
    "        if valid_date(line.split(',')[0]):\n",
    "            lines.append(line.strip('\\n'))\n",
    "        else:\n",
    "            lines[len(lines) - 1] += ' ' + line.strip('\\n')\n",
    "lines[2]"
   ]
  },
  {
   "cell_type": "code",
   "execution_count": 326,
   "metadata": {},
   "outputs": [],
   "source": [
    "del lines[0]"
   ]
  },
  {
   "cell_type": "code",
   "execution_count": 327,
   "metadata": {},
   "outputs": [
    {
     "name": "stdout",
     "output_type": "stream",
     "text": [
      "1976\n"
     ]
    }
   ],
   "source": [
    "print(len(lines))"
   ]
  },
  {
   "cell_type": "code",
   "execution_count": 328,
   "metadata": {},
   "outputs": [],
   "source": [
    "# just a hack for automating the format of year in the date which goes as a parameter in the strptime function:\n",
    "temp=lines[0]\n",
    "temp=temp.split(', ')[0]\n",
    "temp=temp[::-1]\n",
    "cnt=0\n",
    "for i in temp:\n",
    "    cnt+=1\n",
    "    if(i=='/'):\n",
    "        break\n",
    "cnt-=1\n",
    "if(cnt==2):\n",
    "    yr='y'\n",
    "else:\n",
    "    yr='Y'"
   ]
  },
  {
   "cell_type": "code",
   "execution_count": 329,
   "metadata": {},
   "outputs": [],
   "source": [
    "def valid_user(lsts):\n",
    "    if len(lsts) == 5 and not 'changed' in lsts[-1] and not 'left' in lsts[-1] and not 'added' in lsts[-1] and not 'created' in lsts[-1] and not 'removed' in lsts[-1] and not 'admin' in lsts[-1]:\n",
    "        return True\n",
    "    elif '+91' in lsts[-1] and len(lsts) <= 3:\n",
    "        return True\n",
    "    return False"
   ]
  },
  {
   "cell_type": "code",
   "execution_count": 330,
   "metadata": {},
   "outputs": [],
   "source": [
    "# defining the regex pattern for grabbing information from the list 'lines' we created:\n",
    "pattern2 = re.compile('(\\d?\\d+:\\d\\d)+\\s+(pm|am|PM|AM)+\\s+-\\s+([a-zA-Z0-9]+\\s?[a-zA-Z0-9]+\\s?[a-zA-Z0-9]+\\s?):\\s+')"
   ]
  },
  {
   "cell_type": "code",
   "execution_count": 331,
   "metadata": {},
   "outputs": [],
   "source": [
    "# extracting all necessary details of a specific message for creating a well structured dataframe:\n",
    "dates=[]\n",
    "datetimes=[]\n",
    "times=[]\n",
    "msgs=[]\n",
    "messengers=[]\n",
    "# format of date='%d/%m/%Y' or '%m/%d/%Y' or '%d/%m/%y' or ''%m/%d/%Y'\n",
    "# only %m/%d or %d/%m needs to be mentioned.\n",
    "for each in lines:\n",
    "    lsts=pattern2.split(each)\n",
    "    #print(lsts)\n",
    "    if(not valid_user(lsts)):\n",
    "        continue\n",
    "    x=lsts[0].split(', ')[0]\n",
    "    dates.append(x)\n",
    "    times.append(lsts[1]+' '+lsts[2]) \n",
    "    pat=x+', '+lsts[1]+' '+lsts[2]\n",
    "    datetimes.append(datetime.datetime.strptime(pat, '%m/%d/%'+yr+', %I:%M %p')) # format should be mentioned, either %m/%d or %d/%m.\n",
    "    msgs.append(lsts[4])\n",
    "    messengers.append(lsts[3])"
   ]
  },
  {
   "cell_type": "code",
   "execution_count": 332,
   "metadata": {},
   "outputs": [
    {
     "data": {
      "text/plain": [
       "['Amit 2', 'Anubhav', 'Naman', 'Viraj Che']"
      ]
     },
     "execution_count": 332,
     "metadata": {},
     "output_type": "execute_result"
    }
   ],
   "source": [
    "names=[y for y in np.unique(messengers)]  # obtaining the names of the participants as list.\n",
    "names"
   ]
  },
  {
   "cell_type": "code",
   "execution_count": 333,
   "metadata": {},
   "outputs": [
    {
     "data": {
      "text/plain": [
       "['Amit 2', 'Anubhav', 'Viraj Che', 'Naman']"
      ]
     },
     "execution_count": 333,
     "metadata": {},
     "output_type": "execute_result"
    }
   ],
   "source": [
    "# Move your name at the end of the list:\n",
    "my_name='naman'\n",
    "for i in range(len(names)):\n",
    "    if(names[i].lower()==my_name.lower()):\n",
    "        idx=i\n",
    "        break\n",
    "names.sort(key=names[idx].__eq__) \n",
    "names"
   ]
  },
  {
   "cell_type": "code",
   "execution_count": 334,
   "metadata": {},
   "outputs": [
    {
     "data": {
      "text/plain": [
       "OrderedDict([('Amit 2', 351),\n",
       "             ('Anubhav', 305),\n",
       "             ('Viraj Che', 550),\n",
       "             ('Naman', 759)])"
      ]
     },
     "execution_count": 334,
     "metadata": {},
     "output_type": "execute_result"
    }
   ],
   "source": [
    "# counts of messages by all participants of the chat in an ordered dictionary (having the keys(or names) \n",
    "# in same order as that in the list).\n",
    "count_messages=collections.OrderedDict()\n",
    "for i in names:\n",
    "    for each in messengers:\n",
    "        if(i.lower()==each.lower()):\n",
    "            if each in count_messages.keys():\n",
    "                count_messages[i]+=1\n",
    "            else:\n",
    "                count_messages[i]=1\n",
    "count_messages"
   ]
  },
  {
   "cell_type": "code",
   "execution_count": 335,
   "metadata": {},
   "outputs": [
    {
     "name": "stdout",
     "output_type": "stream",
     "text": [
      "Total messages exchanged: 1965\n"
     ]
    }
   ],
   "source": [
    "# total messages of the chat: \n",
    "total=0\n",
    "for each in count_messages:\n",
    "    total=total+count_messages[each]\n",
    "print('Total messages exchanged: '+str(total))"
   ]
  },
  {
   "cell_type": "code",
   "execution_count": 336,
   "metadata": {},
   "outputs": [
    {
     "data": {
      "text/html": [
       "<div>\n",
       "<style scoped>\n",
       "    .dataframe tbody tr th:only-of-type {\n",
       "        vertical-align: middle;\n",
       "    }\n",
       "\n",
       "    .dataframe tbody tr th {\n",
       "        vertical-align: top;\n",
       "    }\n",
       "\n",
       "    .dataframe thead th {\n",
       "        text-align: right;\n",
       "    }\n",
       "</style>\n",
       "<table border=\"1\" class=\"dataframe\">\n",
       "  <thead>\n",
       "    <tr style=\"text-align: right;\">\n",
       "      <th></th>\n",
       "      <th>datetime</th>\n",
       "      <th>time</th>\n",
       "      <th>name</th>\n",
       "      <th>messages</th>\n",
       "      <th>date</th>\n",
       "      <th>day</th>\n",
       "      <th>month</th>\n",
       "      <th>year</th>\n",
       "      <th>count</th>\n",
       "    </tr>\n",
       "  </thead>\n",
       "  <tbody>\n",
       "  </tbody>\n",
       "</table>\n",
       "</div>"
      ],
      "text/plain": [
       "Empty DataFrame\n",
       "Columns: [datetime, time, name, messages, date, day, month, year, count]\n",
       "Index: []"
      ]
     },
     "execution_count": 336,
     "metadata": {},
     "output_type": "execute_result"
    }
   ],
   "source": [
    "# defining our dataframe:\n",
    "data_df=pd.DataFrame(columns=['datetime','time','name','messages','date','day','month','year','count'])\n",
    "data_df"
   ]
  },
  {
   "cell_type": "code",
   "execution_count": 337,
   "metadata": {},
   "outputs": [],
   "source": [
    "# filling the dataframe with values:\n",
    "data_df['datetime']=datetimes\n",
    "data_df['time']=times\n",
    "data_df['name']=messengers\n",
    "data_df['messages']=msgs\n",
    "data_df['date'] = data_df['datetime'].apply(lambda x: x.date())\n",
    "data_df['day'] = data_df['datetime'].dt.strftime('%a')\n",
    "data_df['month'] = data_df['datetime'].dt.strftime('%b')\n",
    "data_df['year'] = data_df['datetime'].dt.year\n",
    "data_df['count'] = 1"
   ]
  },
  {
   "cell_type": "code",
   "execution_count": 338,
   "metadata": {
    "scrolled": true
   },
   "outputs": [
    {
     "data": {
      "text/html": [
       "<div>\n",
       "<style scoped>\n",
       "    .dataframe tbody tr th:only-of-type {\n",
       "        vertical-align: middle;\n",
       "    }\n",
       "\n",
       "    .dataframe tbody tr th {\n",
       "        vertical-align: top;\n",
       "    }\n",
       "\n",
       "    .dataframe thead th {\n",
       "        text-align: right;\n",
       "    }\n",
       "</style>\n",
       "<table border=\"1\" class=\"dataframe\">\n",
       "  <thead>\n",
       "    <tr style=\"text-align: right;\">\n",
       "      <th></th>\n",
       "      <th>datetime</th>\n",
       "      <th>time</th>\n",
       "      <th>name</th>\n",
       "      <th>messages</th>\n",
       "      <th>date</th>\n",
       "      <th>day</th>\n",
       "      <th>month</th>\n",
       "      <th>year</th>\n",
       "      <th>count</th>\n",
       "    </tr>\n",
       "  </thead>\n",
       "  <tbody>\n",
       "    <tr>\n",
       "      <th>0</th>\n",
       "      <td>2019-10-26 17:39:00</td>\n",
       "      <td>5:39 PM</td>\n",
       "      <td>Naman</td>\n",
       "      <td>EXCLUSIVE GROUP FOR G-1 RESIDERS</td>\n",
       "      <td>2019-10-26</td>\n",
       "      <td>Sat</td>\n",
       "      <td>Oct</td>\n",
       "      <td>2019</td>\n",
       "      <td>1</td>\n",
       "    </tr>\n",
       "  </tbody>\n",
       "</table>\n",
       "</div>"
      ],
      "text/plain": [
       "             datetime     time   name                          messages  \\\n",
       "0 2019-10-26 17:39:00  5:39 PM  Naman  EXCLUSIVE GROUP FOR G-1 RESIDERS   \n",
       "\n",
       "         date  day month  year  count  \n",
       "0  2019-10-26  Sat   Oct  2019      1  "
      ]
     },
     "execution_count": 338,
     "metadata": {},
     "output_type": "execute_result"
    }
   ],
   "source": [
    "data_df.head(1)"
   ]
  },
  {
   "cell_type": "code",
   "execution_count": 339,
   "metadata": {},
   "outputs": [
    {
     "data": {
      "text/plain": [
       "'EXCLUSIVE GROUP FOR G-1 RESIDERS'"
      ]
     },
     "execution_count": 339,
     "metadata": {},
     "output_type": "execute_result"
    }
   ],
   "source": [
    "msgs[0] # list of all messages"
   ]
  },
  {
   "cell_type": "code",
   "execution_count": 340,
   "metadata": {
    "scrolled": true
   },
   "outputs": [
    {
     "name": "stdout",
     "output_type": "stream",
     "text": [
      "1965\n"
     ]
    },
    {
     "data": {
      "text/plain": [
       "['Ok', 'Thik h', 'Bhai', 'Tum btao']"
      ]
     },
     "execution_count": 340,
     "metadata": {},
     "output_type": "execute_result"
    }
   ],
   "source": [
    "# Separate the messages of every participant and append them one after another:\n",
    "sep_msgs=[]\n",
    "for each in count_messages.keys():\n",
    "    for msg in range(len(msgs)):\n",
    "        if each == messengers[msg]:\n",
    "            sep_msgs.append(msgs[msg])   #obtaining the message corresponding to the participant who sent it.b\n",
    "print(len(sep_msgs))   \n",
    "sep_msgs[11:15]"
   ]
  },
  {
   "cell_type": "code",
   "execution_count": 341,
   "metadata": {},
   "outputs": [],
   "source": [
    "# Creating another dataframe with columns as names of the participants and the rows containing there messages\n",
    "who_sent_what = []\n",
    "prev = 0\n",
    "for each in count_messages.keys():\n",
    "    num = count_messages[each]\n",
    "    \n",
    "    nex = num+prev\n",
    "    messages = sep_msgs[prev:nex]\n",
    "    who_sent_what.append(messages)\n",
    "    prev = nex\n",
    "who_sent_what\n",
    "msg_df=pd.DataFrame(who_sent_what)\n",
    "msg_df = msg_df.transpose()\n",
    "msg_df.columns = [y for y in names]"
   ]
  },
  {
   "cell_type": "code",
   "execution_count": 342,
   "metadata": {},
   "outputs": [],
   "source": [
    "#msg_df.head(10)"
   ]
  },
  {
   "cell_type": "code",
   "execution_count": 343,
   "metadata": {},
   "outputs": [
    {
     "name": "stdout",
     "output_type": "stream",
     "text": [
      "Messages deleted by Naman: 0\n",
      "Messages deleted by Amit 2: 0\n",
      "Messages deleted by Anubhav: 1\n",
      "Messages deleted by Viraj Che: 10\n"
     ]
    }
   ],
   "source": [
    "# getting the information of message deletions:\n",
    "xlast_del=0;\n",
    "for i in msg_df.iloc[:,-1]:\n",
    "    if(i=='You deleted this message'):\n",
    "        xlast_del+=1\n",
    "print('Messages deleted by '+'{}'.format(names[-1]) +': '+str(xlast_del))\n",
    "xi_del=0\n",
    "for i in range(len(names)-1):\n",
    "    xi_del=0\n",
    "    for j in msg_df.iloc[:,i]:\n",
    "        if(j=='This message was deleted'):\n",
    "            xi_del+=1\n",
    "    print('Messages deleted by '+'{}'.format(names[i]) +': '+str(xi_del)) "
   ]
  },
  {
   "cell_type": "code",
   "execution_count": 344,
   "metadata": {
    "scrolled": true
   },
   "outputs": [
    {
     "name": "stdout",
     "output_type": "stream",
     "text": [
      "Media files sent by Naman: 46\n",
      "Media files sent by Amit 2: 6\n",
      "Media files sent by Anubhav: 47\n",
      "Media files sent by Viraj Che: 69\n",
      "Total media exhachanged: 168\n"
     ]
    }
   ],
   "source": [
    "# getting information of media exahnges:\n",
    "xlast_media=0;\n",
    "for i in msg_df.iloc[:,-1]:\n",
    "    if(i=='<Media omitted>'):\n",
    "        xlast_media+=1\n",
    "print('Media files sent by '+'{}'.format(names[-1]) +': '+str(xlast_media))\n",
    "xi_media,xi_tot=0,0\n",
    "for i in range(len(names)-1):\n",
    "    xi_media=0\n",
    "    for j in msg_df.iloc[:,i]:\n",
    "        if(j=='<Media omitted>'):\n",
    "            xi_media+=1\n",
    "    xi_tot+=xi_media\n",
    "    print('Media files sent by '+'{}'.format(names[i])+': '+str(xi_media))\n",
    "print('Total media exhachanged: '+str(xlast_media+xi_tot))"
   ]
  },
  {
   "cell_type": "code",
   "execution_count": 345,
   "metadata": {},
   "outputs": [
    {
     "data": {
      "text/plain": [
       "Text(0.5, 1.0, 'Total Media Sent')"
      ]
     },
     "execution_count": 345,
     "metadata": {},
     "output_type": "execute_result"
    },
    {
     "data": {
      "image/png": "[encoded data removed]",
      "text/plain": [
       "<Figure size 576x432 with 1 Axes>"
      ]
     },
     "metadata": {
      "needs_background": "light"
     },
     "output_type": "display_data"
    }
   ],
   "source": [
    "# Barplot of total media count\n",
    "plt.figure(figsize = (8, 6))\n",
    "data_df['is_media'] = data_df['messages'].apply(lambda x: 1 if '<Media omitted>' in x else 0)\n",
    "data_df.groupby('name').sum().reset_index().sort_values(by = 'is_media', ascending = False)[['name', 'is_media']]\n",
    "total_media_count = data_df.groupby('name').sum().reset_index().sort_values(by = 'is_media', ascending = False)[['name', 'is_media']]\n",
    "sns.barplot(x = 'name', y = 'is_media', data = total_media_count)\n",
    "plt.title('Total Media Sent')"
   ]
  },
  {
   "cell_type": "code",
   "execution_count": 346,
   "metadata": {},
   "outputs": [],
   "source": [
    "# defining the helper function to extract emojis:\n",
    "def extract_emojis(columnname):\n",
    "    emojis=[]\n",
    "    for string in msg_df[columnname]:\n",
    "        my_str = str(string)\n",
    "        for each in my_str:\n",
    "            if each in emoji.UNICODE_EMOJI:\n",
    "                emojis.append(each)\n",
    "    return emojis"
   ]
  },
  {
   "cell_type": "code",
   "execution_count": 347,
   "metadata": {
    "scrolled": false
   },
   "outputs": [
    {
     "name": "stdout",
     "output_type": "stream",
     "text": [
      "\n",
      "Top 5 emojis sent by: Amit 2\n",
      "😅    77\n",
      "😁    54\n",
      "🤣    48\n",
      "😂    38\n",
      "🙄    18\n",
      "Name: 0, dtype: int64\n",
      "\n",
      "Top 5 emojis sent by: Anubhav\n",
      "🤣    91\n",
      "😂    58\n",
      "😉    23\n",
      "😭    16\n",
      "😅    14\n",
      "Name: 0, dtype: int64\n",
      "\n",
      "Top 5 emojis sent by: Viraj Che\n",
      "😂    89\n",
      "🤣    84\n",
      "😅    68\n",
      "😄    31\n",
      "🤩    16\n",
      "Name: 0, dtype: int64\n",
      "\n",
      "Top 5 emojis sent by: Naman\n",
      "🤣    112\n",
      "😂    101\n",
      "😁     81\n",
      "😅     45\n",
      "👍     21\n",
      "Name: 0, dtype: int64\n"
     ]
    }
   ],
   "source": [
    "# Getting the emojis sent by each participant and their corresponding count\n",
    "emoji_dict={}\n",
    "top5_emj=collections.OrderedDict()\n",
    "tot_emj=collections.OrderedDict()\n",
    "#emoji_df=pd.DataFrame()\n",
    "emoji_all=pd.DataFrame(columns=['name','emojis_used','total_emojis','distinct_emojis_sent'])\n",
    "emoji_all['name']=names\n",
    "t=0\n",
    "d={}\n",
    "unique_emojis=set()\n",
    "\n",
    "for keys in count_messages.keys():\n",
    "    \n",
    "    print()\n",
    "    print('Top 5 emojis sent by: '+keys)\n",
    "    \n",
    "    emoji_dict[keys] = extract_emojis(keys)\n",
    "    emoji_df=pd.DataFrame(emoji_dict[keys])\n",
    "    d={}\n",
    "    x=emoji_df[0].value_counts()\n",
    "    unique_emojis.update(x.index)\n",
    "    for i in x.index:\n",
    "        d[i]=x[i]\n",
    "    emoji_all['emojis_used'][t]=d                      # details of total emojis by each participant\n",
    "    emoji_all['distinct_emojis_sent'][t]=len(x.index)  # how many different emojis are sent by each participant\n",
    "    t+=1\n",
    "    \n",
    "    tot_emj[keys]=len(emoji_df)\n",
    "    top5_emj[keys]=emoji_df[0].value_counts()[:5]\n",
    "    print(emoji_df[0].value_counts()[:5])"
   ]
  },
  {
   "cell_type": "code",
   "execution_count": 348,
   "metadata": {},
   "outputs": [],
   "source": [
    "# Getting the frequency of each distinct emoji in the chat:\n",
    "freq_emojis=collections.OrderedDict()\n",
    "for i in unique_emojis:\n",
    "    for dct in emoji_all['emojis_used']:\n",
    "        for each,val in dct.items():\n",
    "            if i==each:\n",
    "                if i in freq_emojis.keys():\n",
    "                    freq_emojis[i]+=val\n",
    "                else:\n",
    "                    freq_emojis[i]=val"
   ]
  },
  {
   "cell_type": "code",
   "execution_count": 349,
   "metadata": {},
   "outputs": [
    {
     "data": {
      "text/plain": [
       "'🤣'"
      ]
     },
     "execution_count": 349,
     "metadata": {},
     "output_type": "execute_result"
    }
   ],
   "source": [
    "# sorting the freq_emojis dictionary by values: \n",
    "sorted_x = sorted(freq_emojis.items(), key=operator.itemgetter(1))\n",
    "sorted_freq_emojis=collections.OrderedDict(sorted_x)\n",
    "\n",
    "# most frequent emoji exchanged in the chat:\n",
    "list(sorted_freq_emojis.keys())[-1]"
   ]
  },
  {
   "cell_type": "code",
   "execution_count": 350,
   "metadata": {
    "scrolled": true
   },
   "outputs": [
    {
     "data": {
      "text/plain": [
       "'🤣'"
      ]
     },
     "execution_count": 350,
     "metadata": {},
     "output_type": "execute_result"
    }
   ],
   "source": [
    "# doing the above thing other way round:\n",
    "list(freq_emojis.keys())[list(freq_emojis.values()).index(max(sorted(freq_emojis.values())))]"
   ]
  },
  {
   "cell_type": "code",
   "execution_count": 351,
   "metadata": {
    "scrolled": false
   },
   "outputs": [
    {
     "data": {
      "text/html": [
       "<div>\n",
       "<style scoped>\n",
       "    .dataframe tbody tr th:only-of-type {\n",
       "        vertical-align: middle;\n",
       "    }\n",
       "\n",
       "    .dataframe tbody tr th {\n",
       "        vertical-align: top;\n",
       "    }\n",
       "\n",
       "    .dataframe thead th {\n",
       "        text-align: right;\n",
       "    }\n",
       "</style>\n",
       "<table border=\"1\" class=\"dataframe\">\n",
       "  <thead>\n",
       "    <tr style=\"text-align: right;\">\n",
       "      <th></th>\n",
       "      <th>name</th>\n",
       "      <th>emojis_used</th>\n",
       "      <th>total_emojis</th>\n",
       "      <th>distinct_emojis_sent</th>\n",
       "    </tr>\n",
       "  </thead>\n",
       "  <tbody>\n",
       "    <tr>\n",
       "      <th>0</th>\n",
       "      <td>Amit 2</td>\n",
       "      <td>{'😅': 77, '😁': 54, '🤣': 48, '😂': 38, '🙄': 18, ...</td>\n",
       "      <td>NaN</td>\n",
       "      <td>29</td>\n",
       "    </tr>\n",
       "    <tr>\n",
       "      <th>1</th>\n",
       "      <td>Anubhav</td>\n",
       "      <td>{'🤣': 91, '😂': 58, '😉': 23, '😭': 16, '😅': 14, ...</td>\n",
       "      <td>NaN</td>\n",
       "      <td>15</td>\n",
       "    </tr>\n",
       "    <tr>\n",
       "      <th>2</th>\n",
       "      <td>Viraj Che</td>\n",
       "      <td>{'😂': 89, '🤣': 84, '😅': 68, '😄': 31, '🤩': 16, ...</td>\n",
       "      <td>NaN</td>\n",
       "      <td>40</td>\n",
       "    </tr>\n",
       "    <tr>\n",
       "      <th>3</th>\n",
       "      <td>Naman</td>\n",
       "      <td>{'🤣': 112, '😂': 101, '😁': 81, '😅': 45, '👍': 21...</td>\n",
       "      <td>NaN</td>\n",
       "      <td>40</td>\n",
       "    </tr>\n",
       "  </tbody>\n",
       "</table>\n",
       "</div>"
      ],
      "text/plain": [
       "        name                                        emojis_used total_emojis  \\\n",
       "0     Amit 2  {'😅': 77, '😁': 54, '🤣': 48, '😂': 38, '🙄': 18, ...          NaN   \n",
       "1    Anubhav  {'🤣': 91, '😂': 58, '😉': 23, '😭': 16, '😅': 14, ...          NaN   \n",
       "2  Viraj Che  {'😂': 89, '🤣': 84, '😅': 68, '😄': 31, '🤩': 16, ...          NaN   \n",
       "3      Naman  {'🤣': 112, '😂': 101, '😁': 81, '😅': 45, '👍': 21...          NaN   \n",
       "\n",
       "  distinct_emojis_sent  \n",
       "0                   29  \n",
       "1                   15  \n",
       "2                   40  \n",
       "3                   40  "
      ]
     },
     "execution_count": 351,
     "metadata": {},
     "output_type": "execute_result"
    }
   ],
   "source": [
    "emoji_all"
   ]
  },
  {
   "cell_type": "code",
   "execution_count": 352,
   "metadata": {},
   "outputs": [
    {
     "data": {
      "text/plain": [
       "80"
      ]
     },
     "execution_count": 352,
     "metadata": {},
     "output_type": "execute_result"
    }
   ],
   "source": [
    "# overall different types of emojis sent by the pariticipant as a whole for this chat:\n",
    "len(unique_emojis)"
   ]
  },
  {
   "cell_type": "code",
   "execution_count": 353,
   "metadata": {},
   "outputs": [
    {
     "name": "stdout",
     "output_type": "stream",
     "text": [
      "Total emojis sent by Amit 2: 362\n",
      "Total emojis sent by Anubhav: 235\n",
      "Total emojis sent by Viraj Che: 416\n",
      "Total emojis sent by Naman: 434\n",
      "Total emojis exchanged: 1447\n"
     ]
    }
   ],
   "source": [
    "# total emojis by every paricipant and filling the 'total_emojis' column of the emoji_all dataframe:\n",
    "to=0\n",
    "t=0\n",
    "for i in tot_emj:\n",
    "    to+=tot_emj[i]\n",
    "    emoji_all['total_emojis'][t]=tot_emj[i]\n",
    "    t+=1\n",
    "    print('Total emojis sent by '+'{}'.format(i)+': '+str(tot_emj[i]))\n",
    "print('Total emojis exchanged: '+str(to))"
   ]
  },
  {
   "cell_type": "code",
   "execution_count": 354,
   "metadata": {},
   "outputs": [
    {
     "data": {
      "text/html": [
       "<div>\n",
       "<style scoped>\n",
       "    .dataframe tbody tr th:only-of-type {\n",
       "        vertical-align: middle;\n",
       "    }\n",
       "\n",
       "    .dataframe tbody tr th {\n",
       "        vertical-align: top;\n",
       "    }\n",
       "\n",
       "    .dataframe thead th {\n",
       "        text-align: right;\n",
       "    }\n",
       "</style>\n",
       "<table border=\"1\" class=\"dataframe\">\n",
       "  <thead>\n",
       "    <tr style=\"text-align: right;\">\n",
       "      <th></th>\n",
       "      <th>name</th>\n",
       "      <th>emojis_used</th>\n",
       "      <th>total_emojis</th>\n",
       "      <th>distinct_emojis_sent</th>\n",
       "    </tr>\n",
       "  </thead>\n",
       "  <tbody>\n",
       "    <tr>\n",
       "      <th>0</th>\n",
       "      <td>Amit 2</td>\n",
       "      <td>{'😅': 77, '😁': 54, '🤣': 48, '😂': 38, '🙄': 18, ...</td>\n",
       "      <td>362</td>\n",
       "      <td>29</td>\n",
       "    </tr>\n",
       "    <tr>\n",
       "      <th>1</th>\n",
       "      <td>Anubhav</td>\n",
       "      <td>{'🤣': 91, '😂': 58, '😉': 23, '😭': 16, '😅': 14, ...</td>\n",
       "      <td>235</td>\n",
       "      <td>15</td>\n",
       "    </tr>\n",
       "    <tr>\n",
       "      <th>2</th>\n",
       "      <td>Viraj Che</td>\n",
       "      <td>{'😂': 89, '🤣': 84, '😅': 68, '😄': 31, '🤩': 16, ...</td>\n",
       "      <td>416</td>\n",
       "      <td>40</td>\n",
       "    </tr>\n",
       "    <tr>\n",
       "      <th>3</th>\n",
       "      <td>Naman</td>\n",
       "      <td>{'🤣': 112, '😂': 101, '😁': 81, '😅': 45, '👍': 21...</td>\n",
       "      <td>434</td>\n",
       "      <td>40</td>\n",
       "    </tr>\n",
       "  </tbody>\n",
       "</table>\n",
       "</div>"
      ],
      "text/plain": [
       "        name                                        emojis_used total_emojis  \\\n",
       "0     Amit 2  {'😅': 77, '😁': 54, '🤣': 48, '😂': 38, '🙄': 18, ...          362   \n",
       "1    Anubhav  {'🤣': 91, '😂': 58, '😉': 23, '😭': 16, '😅': 14, ...          235   \n",
       "2  Viraj Che  {'😂': 89, '🤣': 84, '😅': 68, '😄': 31, '🤩': 16, ...          416   \n",
       "3      Naman  {'🤣': 112, '😂': 101, '😁': 81, '😅': 45, '👍': 21...          434   \n",
       "\n",
       "  distinct_emojis_sent  \n",
       "0                   29  \n",
       "1                   15  \n",
       "2                   40  \n",
       "3                   40  "
      ]
     },
     "execution_count": 354,
     "metadata": {},
     "output_type": "execute_result"
    }
   ],
   "source": [
    "emoji_all"
   ]
  },
  {
   "cell_type": "code",
   "execution_count": 355,
   "metadata": {},
   "outputs": [
    {
     "data": {
      "text/plain": [
       "Text(0.5, 1.0, 'Distinct Emojis Used')"
      ]
     },
     "execution_count": 355,
     "metadata": {},
     "output_type": "execute_result"
    },
    {
     "data": {
      "image/png": "[encoded data removed]",
      "text/plain": [
       "<Figure size 1152x432 with 2 Axes>"
      ]
     },
     "metadata": {
      "needs_background": "light"
     },
     "output_type": "display_data"
    }
   ],
   "source": [
    "fig, axs = plt.subplots(ncols = 2, figsize = (16, 6))\n",
    "\n",
    "# visualizing the total messages by each participant:\n",
    "sns.barplot(x = 'name', y = 'total_emojis', data = emoji_all,ax=axs[0])\n",
    "axs[0].set_title('Total Emojis Used')\n",
    "\n",
    "# visualizing distinct emojis sent by each participant;\n",
    "sns.barplot(x='name',y='distinct_emojis_sent',data=emoji_all,ax=axs[1])\n",
    "axs[1].set_title('Distinct Emojis Used')"
   ]
  },
  {
   "cell_type": "code",
   "execution_count": 356,
   "metadata": {
    "scrolled": true
   },
   "outputs": [
    {
     "data": {
      "image/png": "[encoded data removed]",
      "text/plain": [
       "<Figure size 432x288 with 1 Axes>"
      ]
     },
     "metadata": {
      "needs_background": "light"
     },
     "output_type": "display_data"
    }
   ],
   "source": [
    "# plotting a graph showing pattern of number of messages distributed over different hours of the day: \n",
    "\n",
    "# for this task, below code seems to be a bit complicated, isn't it? No problem, we'll do it in an easier way a bit later. This was just an experiment\n",
    "# to do it from a little scratch.\n",
    "\n",
    "hour_pattern = '(\\d+):\\d+\\s+(am|pm|AM|PM)+\\s+-\\s+\\w+\\s?\\w+?\\s?\\w+\\s?\\w+:\\s'\n",
    "hours = re.findall(hour_pattern,data)\n",
    "hrs=[]\n",
    "for i in hours:   # converting 'hh:mm PM/AM/pm/am' format in 24 hours time format \n",
    "    if(i[1]=='pm' or i[1]=='PM'):\n",
    "        if(int(i[0])>=1 and int(i[0])<=11):\n",
    "            hrs.append(str(int(i[0])+12))\n",
    "        else:\n",
    "            hrs.append(i[0])\n",
    "    else:\n",
    "        if(int(i[0])>=12):\n",
    "            hrs.append('00')\n",
    "        else:\n",
    "            if(int(i[0])>=1 and int(i[0])<=9):\n",
    "                hrs.append('0'+i[0])\n",
    "            else:\n",
    "                hrs.append(i[0])  \n",
    "time = pd.DataFrame({'hours':hrs})\n",
    "busy_hours = time['hours'].value_counts()\n",
    "busy_hours.sort_index(inplace=True)\n",
    "plt.axes([1,1,1,0.98])\n",
    "plt.grid(True)\n",
    "busy_hours.plot.bar()\n",
    "plt.xlabel('Hour')\n",
    "plt.ylabel('No. of Messages')\n",
    "plt.xticks(rotation=0)\n",
    "plt.show()\n",
    "%matplotlib inline"
   ]
  },
  {
   "cell_type": "code",
   "execution_count": 357,
   "metadata": {},
   "outputs": [
    {
     "data": {
      "text/plain": [
       "Text(0.5, 1.0, 'Average Message Lengths')"
      ]
     },
     "execution_count": 357,
     "metadata": {},
     "output_type": "execute_result"
    },
    {
     "data": {
      "image/png": "[encoded data removed]",
      "text/plain": [
       "<Figure size 1152x432 with 2 Axes>"
      ]
     },
     "metadata": {
      "needs_background": "light"
     },
     "output_type": "display_data"
    }
   ],
   "source": [
    "# Countplot of total messages sent\n",
    "fig, axs = plt.subplots(ncols = 2, figsize = (16, 6))\n",
    "sns.countplot(x = 'name', data = data_df, order = data_df['name'].value_counts().index, ax=axs[0] )\n",
    "axs[0].set_title('Total Messages Sent')\n",
    "\n",
    "# Barplot of average message lengths\n",
    "data_df['msg_length'] = data_df['messages'].apply(lambda x: len(x))\n",
    "avg_msg_lengths =data_df.groupby('name').mean().reset_index().sort_values(by = 'msg_length', ascending = False)\n",
    "sns.barplot(x = 'name', y = 'msg_length', data = avg_msg_lengths, ax = axs[1])\n",
    "axs[1].set_title('Average Message Lengths')"
   ]
  },
  {
   "cell_type": "code",
   "execution_count": 358,
   "metadata": {},
   "outputs": [
    {
     "data": {
      "text/plain": [
       "Text(0.5, 1.0, 'Total messages sent grouped by month')"
      ]
     },
     "execution_count": 358,
     "metadata": {},
     "output_type": "execute_result"
    },
    {
     "data": {
      "image/png": "[encoded data removed]",
      "text/plain": [
       "<Figure size 864x432 with 1 Axes>"
      ]
     },
     "metadata": {
      "needs_background": "light"
     },
     "output_type": "display_data"
    }
   ],
   "source": [
    "# Total messages sent spanning over a month:\n",
    "fig, ax = plt.subplots(ncols = 1, figsize = (12, 6))\n",
    "\n",
    "months = ['Jan', 'Feb', 'Mar', 'Apr', 'May', 'Jun', 'Jul', 'Aug', 'Sep', 'Oct', 'Nov', 'Dec']\n",
    "grouped_by_month = data_df.groupby('month').sum().reset_index().sort_values(by = 'count', ascending = False)\n",
    "sns.barplot(x = 'count', y = 'month', data = grouped_by_month, order = months, ax = ax)\n",
    "ax.set_title('Total messages sent grouped by month')"
   ]
  },
  {
   "cell_type": "code",
   "execution_count": 359,
   "metadata": {
    "scrolled": true
   },
   "outputs": [
    {
     "data": {
      "text/plain": [
       "Text(0.5, 1.0, 'Most Active Hours')"
      ]
     },
     "execution_count": 359,
     "metadata": {},
     "output_type": "execute_result"
    },
    {
     "data": {
      "image/png": "[encoded data removed]",
      "text/plain": [
       "<Figure size 1728x432 with 2 Axes>"
      ]
     },
     "metadata": {
      "needs_background": "light"
     },
     "output_type": "display_data"
    }
   ],
   "source": [
    "# Total messages spanning over a day: \n",
    "fig, axs = plt.subplots(ncols = 2, figsize = (24, 6))\n",
    "days = ['Mon', 'Tue', 'Wed', 'Thu', 'Fri', 'Sat', 'Sun']\n",
    "grouped_by_day = data_df.groupby('day').sum().reset_index()[['day', 'count']]\n",
    "sns.barplot(y = 'count', x = 'day', data = grouped_by_day, order = days, ax = axs[0])\n",
    "axs[0].set_title('Total messages sent grouped by day')\n",
    "\n",
    "# here's the simpler way (the thing that seemed to be bit complicated):\n",
    "# most active hours of talk:\n",
    "data_df['hour_sent'] = data_df['datetime'].apply(lambda x: x.hour)\n",
    "grouped_by_time = data_df.groupby('hour_sent').sum().reset_index().sort_values(by = 'count', ascending = False)\n",
    "sns.barplot(y = 'count', x = 'hour_sent', data = grouped_by_time, ax = axs[1])\n",
    "axs[1].set_title('Most Active Hours')"
   ]
  },
  {
   "cell_type": "code",
   "execution_count": 360,
   "metadata": {
    "scrolled": false
   },
   "outputs": [
    {
     "data": {
      "text/plain": [
       "Text(0.5, 1.0, 'Most Active Days')"
      ]
     },
     "execution_count": 360,
     "metadata": {},
     "output_type": "execute_result"
    },
    {
     "data": {
      "image/png": "[encoded data removed]",
      "text/plain": [
       "<Figure size 1296x432 with 1 Axes>"
      ]
     },
     "metadata": {
      "needs_background": "light"
     },
     "output_type": "display_data"
    }
   ],
   "source": [
    "plt.figure(figsize = (18, 6))\n",
    "\n",
    "grouped_by_date = data_df.groupby('date').sum().reset_index().sort_values(by = 'count', ascending = False).head(15)\n",
    "grouped_by_date['day'] = grouped_by_date['date'].apply(lambda x: x.strftime('%a'))\n",
    "ax = sns.barplot(y = 'count', x = 'date', data = grouped_by_date)\n",
    "\n",
    "for bar, label in zip(ax.patches, grouped_by_date['day']):\n",
    "    x = bar.get_x()\n",
    "    width = bar.get_width()\n",
    "    height = bar.get_height()\n",
    "    ax.text(x + width/2., height + 1, label, ha=\"center\") \n",
    "\n",
    "ax.set_xticklabels(ax.get_xticklabels(), rotation = 30)\n",
    "plt.title('Most Active Days')"
   ]
  },
  {
   "cell_type": "code",
   "execution_count": 363,
   "metadata": {},
   "outputs": [
    {
     "data": {
      "text/html": [
       "<div>\n",
       "<style scoped>\n",
       "    .dataframe tbody tr th:only-of-type {\n",
       "        vertical-align: middle;\n",
       "    }\n",
       "\n",
       "    .dataframe tbody tr th {\n",
       "        vertical-align: top;\n",
       "    }\n",
       "\n",
       "    .dataframe thead th {\n",
       "        text-align: right;\n",
       "    }\n",
       "</style>\n",
       "<table border=\"1\" class=\"dataframe\">\n",
       "  <thead>\n",
       "    <tr style=\"text-align: right;\">\n",
       "      <th></th>\n",
       "      <th>datetime</th>\n",
       "      <th>time</th>\n",
       "      <th>name</th>\n",
       "      <th>messages</th>\n",
       "      <th>date</th>\n",
       "      <th>day</th>\n",
       "      <th>month</th>\n",
       "      <th>year</th>\n",
       "      <th>count</th>\n",
       "      <th>is_media</th>\n",
       "      <th>msg_length</th>\n",
       "      <th>hour_sent</th>\n",
       "    </tr>\n",
       "  </thead>\n",
       "  <tbody>\n",
       "    <tr>\n",
       "      <th>0</th>\n",
       "      <td>2019-10-26 17:39:00</td>\n",
       "      <td>5:39 PM</td>\n",
       "      <td>Naman</td>\n",
       "      <td>EXCLUSIVE GROUP FOR G-1 RESIDERS</td>\n",
       "      <td>2019-10-26</td>\n",
       "      <td>Sat</td>\n",
       "      <td>Oct</td>\n",
       "      <td>2019</td>\n",
       "      <td>1</td>\n",
       "      <td>0</td>\n",
       "      <td>32</td>\n",
       "      <td>17</td>\n",
       "    </tr>\n",
       "  </tbody>\n",
       "</table>\n",
       "</div>"
      ],
      "text/plain": [
       "             datetime     time   name                          messages  \\\n",
       "0 2019-10-26 17:39:00  5:39 PM  Naman  EXCLUSIVE GROUP FOR G-1 RESIDERS   \n",
       "\n",
       "         date  day month  year  count  is_media  msg_length  hour_sent  \n",
       "0  2019-10-26  Sat   Oct  2019      1         0          32         17  "
      ]
     },
     "execution_count": 363,
     "metadata": {},
     "output_type": "execute_result"
    }
   ],
   "source": [
    "# final structure of data_df\n",
    "data_df.head(1)"
   ]
  },
  {
   "cell_type": "code",
   "execution_count": null,
   "metadata": {},
   "outputs": [],
   "source": []
  }
 ],
 "metadata": {
  "kernelspec": {
   "display_name": "Python 3",
   "language": "python",
   "name": "python3"
  },
  "language_info": {
   "codemirror_mode": {
    "name": "ipython",
    "version": 3
   },
   "file_extension": ".py",
   "mimetype": "text/x-python",
   "name": "python",
   "nbconvert_exporter": "python",
   "pygments_lexer": "ipython3",
   "version": "3.7.6"
  }
 },
 "nbformat": 4,
 "nbformat_minor": 4
}
